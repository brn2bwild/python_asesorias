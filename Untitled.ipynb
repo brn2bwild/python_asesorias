{
 "cells": [
  {
   "cell_type": "code",
   "execution_count": 49,
   "id": "dfee32aa",
   "metadata": {},
   "outputs": [],
   "source": [
    "variable_texto = \"\"\n",
    "variable_numero = 0\n",
    "variable_flotante = 0.0\n",
    "array = []"
   ]
  },
  {
   "cell_type": "code",
   "execution_count": 48,
   "id": "07a35de7",
   "metadata": {},
   "outputs": [
    {
     "name": "stdout",
     "output_type": "stream",
     "text": [
      "variable mayor que 0\n"
     ]
    }
   ],
   "source": [
    "variable = 5\n",
    "if variable > 0:\n",
    "    print(\"variable mayor que 0\")"
   ]
  },
  {
   "cell_type": "code",
   "execution_count": null,
   "id": "f8ec4d6a",
   "metadata": {},
   "outputs": [],
   "source": []
  }
 ],
 "metadata": {
  "kernelspec": {
   "display_name": "Python 3 (ipykernel)",
   "language": "python",
   "name": "python3"
  },
  "language_info": {
   "codemirror_mode": {
    "name": "ipython",
    "version": 3
   },
   "file_extension": ".py",
   "mimetype": "text/x-python",
   "name": "python",
   "nbconvert_exporter": "python",
   "pygments_lexer": "ipython3",
   "version": "3.10.1"
  }
 },
 "nbformat": 4,
 "nbformat_minor": 5
}
